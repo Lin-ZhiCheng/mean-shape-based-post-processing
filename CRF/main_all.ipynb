{
 "cells": [
  {
   "cell_type": "code",
   "execution_count": 1,
   "id": "d2f90dca",
   "metadata": {
    "scrolled": false
   },
   "outputs": [
    {
     "name": "stdout",
     "output_type": "stream",
     "text": [
      "Processing c:\\users\\fcq20zl\\desktop\\crf_method\\pydensecrf_package\\pydensecrf-1.0rc2-cp39-cp39-win_amd64.whl\n",
      "pydensecrf is already installed with the same version as the provided wheel. Use --force-reinstall to force an installation of the wheel.\n"
     ]
    }
   ],
   "source": [
    "!pip install ../pydensecrf_package/pydensecrf-1.0rc2-cp39-cp39-win_amd64.whl"
   ]
  },
  {
   "cell_type": "code",
   "execution_count": 2,
   "id": "10a7b803",
   "metadata": {},
   "outputs": [],
   "source": [
    "import numpy as np\n",
    "import pydensecrf.densecrf as dcrf\n",
    "from pydensecrf.utils import unary_from_softmax, create_pairwise_bilateral\n",
    "import numpy as np\n",
    "import matplotlib.pyplot as plt\n",
    "import math\n",
    "import torch \n",
    "import torch.nn.functional as F\n",
    "import glob\n",
    "import cv2\n",
    "from PIL import Image\n",
    "import os\n",
    "%matplotlib inline\n",
    "\n",
    "plt.rcParams['image.interpolation'] = 'nearest'\n",
    "plt.rcParams['image.cmap'] = 'gray'\n",
    "from scipy.stats import multivariate_normal\n",
    "\n",
    "\n",
    "\n",
    "# \n",
    "def softmax(x,axis=None):\n",
    "    x = x - x.max(axis=axis, keepdims=True)\n",
    "    y = np.exp(x)\n",
    "    y = y / y.sum(axis=axis, keepdims=True)\n",
    "    return y"
   ]
  },
  {
   "cell_type": "code",
   "execution_count": 7,
   "id": "b544fd47",
   "metadata": {},
   "outputs": [
    {
     "name": "stdout",
     "output_type": "stream",
     "text": [
      "555\n",
      "555\n",
      "..................\n"
     ]
    }
   ],
   "source": [
    "para_1 = 10  # location\n",
    "para_2 =  10  # image content\n",
    "para_3 =  10 # weight\n",
    "num_iter = 10;\n",
    "\n",
    "loo_xx = 'loo3';\n",
    "\n",
    "#################################################################################################################  \n",
    "# read the raw MRI \n",
    "MRI_path = glob.glob('../save_to_npy/Dataset/NW/'+MB_XX+'/MRI/*.png')\n",
    "MRI_path = sorted(MRI_path)\n",
    "# read the npy saved from the end of the nerual network\n",
    "pred_path = glob.glob('../save_to_npy/'+MB_XX+'_npy/'+MB_XX+'_npy_'+loo_xx+'/*.npy')\n",
    "pred_path = sorted(pred_path)\n",
    "print(len(MRI_path))\n",
    "print(len(pred_path))\n",
    "print('..................')\n",
    "\n",
    "for nn in range(0,len(MRI_path)):\n",
    "    img = cv2.imread(MRI_path[nn],cv2.IMREAD_GRAYSCALE); # \n",
    "    output = np.load(pred_path[nn]); # the dim of pred is 256 256 26 \n",
    "    \n",
    "    output = softmax(output,axis=0);#\n",
    "    \n",
    "    \n",
    "    # Inference without pair-wise terms\n",
    "    U = unary_from_softmax(output)  # note: num classes is first dim\n",
    "    W, H, NLABELS = 256,256,26\n",
    "    d = dcrf.DenseCRF2D(W, H, NLABELS)\n",
    "    d.setUnaryEnergy(U)\n",
    "    \n",
    "    # Create the pairwise bilateral term from the above image.\n",
    "    # The two `s{dims,chan}` parameters are model hyper-parameters defining\n",
    "    # the strength of the location and image content bilaterals, respectively.\n",
    "    pairwise_energy = create_pairwise_bilateral(sdims=(para_1,), schan=(para_2,), img=img, chdim=-1)\n",
    "    d.addPairwiseEnergy(pairwise_energy, compat=para_3)  # `compat` is the \"strength\" of this potential.\n",
    "    d.addPairwiseGaussian(sxy=1, compat=1)\n",
    "    \n",
    "    Q, tmp1, tmp2 = d.startInference()\n",
    "    \n",
    "  \n",
    "    \n",
    "    for _ in range(num_iter):\n",
    "        d.stepInference(Q, tmp1, tmp2)\n",
    "    map_soln3 = np.argmax(Q, axis=0).reshape((H,W))\n",
    "    \n",
    "    map_soln3.astype(np.uint8)\n",
    "    if (nn+1) < 10:\n",
    "          filename = './.........png'\n",
    "          cv2.imwrite(filename, map_soln3)\n",
    "    elif (nn+1)>=10 and (nn+1)<=99:\n",
    "          filename = './.........png'\n",
    "          cv2.imwrite(filename, map_soln3)\n",
    "    else:\n",
    "          filename = './.........png'\n",
    "          cv2.imwrite(filename, map_soln3)\n",
    "        \n",
    "        \n",
    "        \n",
    "    "
   ]
  },
  {
   "cell_type": "code",
   "execution_count": null,
   "id": "6b7fa733",
   "metadata": {},
   "outputs": [],
   "source": []
  }
 ],
 "metadata": {
  "kernelspec": {
   "display_name": "pytorch_gpu",
   "language": "python",
   "name": "pytorch_gpu"
  },
  "language_info": {
   "codemirror_mode": {
    "name": "ipython",
    "version": 3
   },
   "file_extension": ".py",
   "mimetype": "text/x-python",
   "name": "python",
   "nbconvert_exporter": "python",
   "pygments_lexer": "ipython3",
   "version": "3.9.13"
  },
  "toc": {
   "base_numbering": 1,
   "nav_menu": {},
   "number_sections": true,
   "sideBar": true,
   "skip_h1_title": false,
   "title_cell": "Table of Contents",
   "title_sidebar": "Contents",
   "toc_cell": false,
   "toc_position": {},
   "toc_section_display": true,
   "toc_window_display": false
  }
 },
 "nbformat": 4,
 "nbformat_minor": 5
}
